{
 "cells": [
  {
   "cell_type": "markdown",
   "id": "cd8f3956-a859-4ae9-80f2-6426d14b45fa",
   "metadata": {},
   "source": [
    "## Day 5 Practice"
   ]
  },
  {
   "cell_type": "markdown",
   "id": "f1973c5e-0ff1-4116-97be-11a552e10acf",
   "metadata": {},
   "source": [
    "Week2 Exercise........................................................."
   ]
  },
  {
   "cell_type": "code",
   "execution_count": 1,
   "id": "1f78f62f-99f1-494d-b53b-1ee57e48cfba",
   "metadata": {},
   "outputs": [],
   "source": [
    "# imports \n",
    "\n",
    "import os\n",
    "from openai import OpenAI\n",
    "import json\n",
    "from dotenv import load_dotenv\n",
    "import gradio as gr\n",
    "from bs4 import BeautifulSoup\n",
    "from typing import List\n",
    "from IPython.display import Markdown, display, update_display"
   ]
  },
  {
   "cell_type": "code",
   "execution_count": 2,
   "id": "9cbebacc-0e68-4d54-aecf-05223c52c4c9",
   "metadata": {},
   "outputs": [
    {
     "name": "stdout",
     "output_type": "stream",
     "text": [
      "OpenAI key exists and begins at sk-proj-\n"
     ]
    }
   ],
   "source": [
    "# load env variables \n",
    "\n",
    "load_dotenv()\n",
    "\n",
    "openai_api_key = os.getenv(\"OPENAI_API_KEY\")\n",
    "\n",
    "if openai_api_key:\n",
    "    print(f\"OpenAI key exists and begins at {openai_api_key[:8]}\")\n",
    "else:\n",
    "    print(\"OpenAI API key does not exist\")"
   ]
  },
  {
   "cell_type": "code",
   "execution_count": 5,
   "id": "9f0584f8-bda4-463d-8ace-0c008d8d5f51",
   "metadata": {},
   "outputs": [],
   "source": [
    "# call API \n",
    "openai = OpenAI()"
   ]
  },
  {
   "cell_type": "code",
   "execution_count": 6,
   "id": "41d965f8-b9fe-4f34-8b29-58000e3b3ace",
   "metadata": {},
   "outputs": [],
   "source": [
    "# Models \n",
    "\n",
    "OPENAI_MODEL = 'gpt-4o-mini'"
   ]
  },
  {
   "cell_type": "code",
   "execution_count": 12,
   "id": "4b181953-fa94-40b6-bfef-8d99e40be152",
   "metadata": {},
   "outputs": [],
   "source": [
    "system_message = \"\"\"You are a helpful assistant and expert in all subjects.\n",
    "Always give answers based on the questions asked.\n",
    "Ensure accuracy and provide well-rounded responses covering the requested topics.\n",
    "\"\"\""
   ]
  },
  {
   "cell_type": "code",
   "execution_count": 34,
   "id": "bd35066a-d96f-4f00-a62f-d5a7b0058fd2",
   "metadata": {},
   "outputs": [],
   "source": [
    "# Function to get AI response\n",
    "def chat_with_ai(user_input, model, history):\n",
    "    if not history:\n",
    "        history = []\n",
    "\n",
    "    # Build message history\n",
    "    messages = [{\"role\": \"system\", \"content\": system_message}] + history + [{\"role\": \"user\", \"content\": user_input}]\n",
    "\n",
    "    # Call OpenAI API with streaming enabled\n",
    "    stream = openai.chat.completions.create(\n",
    "        model=model,\n",
    "        messages=messages,\n",
    "        stream=True\n",
    "    )\n",
    "\n",
    "    response = \"\"\n",
    "    for chunk in stream:\n",
    "        if chunk.choices[0].delta.content:\n",
    "            response += chunk.choices[0].delta.content\n",
    "            yield history + [(user_input, response)]\n",
    "\n",
    "    # ✅ Properly indented history updates\n",
    "    history.append((user_input, response))"
   ]
  },
  {
   "cell_type": "code",
   "execution_count": 36,
   "id": "5feabb53-d855-472a-813e-053eb69afe8e",
   "metadata": {},
   "outputs": [
    {
     "name": "stderr",
     "output_type": "stream",
     "text": [
      "C:\\Users\\User\\AppData\\Local\\Temp\\ipykernel_25896\\418676503.py:10: UserWarning: You have not specified a value for the `type` parameter. Defaulting to the 'tuples' format for chatbot messages, but this is deprecated and will be removed in a future version of Gradio. Please set type='messages' instead, which uses openai-style dictionaries with 'role' and 'content' keys.\n",
      "  chatbot = gr.Chatbot(label=\"Chat\")\n"
     ]
    },
    {
     "name": "stdout",
     "output_type": "stream",
     "text": [
      "* Running on local URL:  http://127.0.0.1:7865\n",
      "\n",
      "To create a public link, set `share=True` in `launch()`.\n"
     ]
    },
    {
     "data": {
      "text/html": [
       "<div><iframe src=\"http://127.0.0.1:7865/\" width=\"100%\" height=\"500\" allow=\"autoplay; camera; microphone; clipboard-read; clipboard-write;\" frameborder=\"0\" allowfullscreen></iframe></div>"
      ],
      "text/plain": [
       "<IPython.core.display.HTML object>"
      ]
     },
     "metadata": {},
     "output_type": "display_data"
    },
    {
     "data": {
      "text/plain": []
     },
     "execution_count": 36,
     "metadata": {},
     "output_type": "execute_result"
    }
   ],
   "source": [
    "# Gradio UI\n",
    "with gr.Blocks() as app:\n",
    "    gr.Markdown(\"Conversational Q&A Chatbot\")\n",
    "\n",
    "    with gr.Row():\n",
    "        model_choice = gr.Dropdown(choices=[\"gpt-4o-mini\", \"gpt-3.5-turbo\"], label=\"Model\")\n",
    "\n",
    "    chat_history = gr.State([]) #Store conversational history\n",
    "\n",
    "    chatbot = gr.Chatbot(label=\"Chat\")\n",
    "    user_input = gr.Textbox(label=\"Ask a question..\", lines=2)\n",
    "    submit_button = gr.Button(\"Send\")\n",
    "\n",
    "    submit_button.click(\n",
    "        chat_with_ai,\n",
    "        inputs = [user_input, model_choice, chat_history],\n",
    "        outputs = [chatbot]\n",
    "    )\n",
    "\n",
    "app.launch()"
   ]
  }
 ],
 "metadata": {
  "kernelspec": {
   "display_name": "Python (llms)",
   "language": "python",
   "name": "llms"
  },
  "language_info": {
   "codemirror_mode": {
    "name": "ipython",
    "version": 3
   },
   "file_extension": ".py",
   "mimetype": "text/x-python",
   "name": "python",
   "nbconvert_exporter": "python",
   "pygments_lexer": "ipython3",
   "version": "3.11.11"
  }
 },
 "nbformat": 4,
 "nbformat_minor": 5
}
